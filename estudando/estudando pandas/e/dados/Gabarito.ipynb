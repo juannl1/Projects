{
 "cells": [
  {
   "cell_type": "code",
   "execution_count": null,
   "id": "9e2f5860",
   "metadata": {},
   "outputs": [],
   "source": [
    "import pandas as pd\n",
    "\n",
    "tabela_clientes = pd.read_csv(\"clientes.csv\")\n",
    "display(tabela_clientes)\n",
    "\n",
    "# Series -> 1 coluna\n",
    "display(tabela_clientes[\"idade\"])\n",
    "# DataFrame"
   ]
  },
  {
   "cell_type": "code",
   "execution_count": null,
   "id": "ca9fe26a",
   "metadata": {},
   "outputs": [],
   "source": [
    "dicionario_produtos = {\"nome\": [\"iphone\", \"ipad\", \"airpod\"], \"preco\": [5000, 9000, 2000], \"estoque\": [100, 50, 60]}\n",
    "\n",
    "tabela_produtos = pd.DataFrame(dicionario_produtos)\n",
    "display(tabela_produtos)"
   ]
  },
  {
   "cell_type": "code",
   "execution_count": null,
   "id": "bc1d4895",
   "metadata": {},
   "outputs": [],
   "source": [
    "lista_produtos = [\n",
    "    {\"nome\": \"iphone\", \"preco\": 5000, \"estoque\": 100},\n",
    "    {\"nome\": \"ipad\", \"preco\": 9000, \"estoque\": 50},\n",
    "    {\"nome\": \"airpod\", \"preco\": 2000, \"estoque\": 60}\n",
    "]\n",
    "\n",
    "tabela_produtos2 = pd.DataFrame(lista_produtos)\n",
    "display(tabela_produtos2)"
   ]
  },
  {
   "cell_type": "code",
   "execution_count": null,
   "id": "de834087",
   "metadata": {},
   "outputs": [],
   "source": []
  }
 ],
 "metadata": {
  "kernelspec": {
   "display_name": "Python 3 (ipykernel)",
   "language": "python",
   "name": "python3"
  },
  "language_info": {
   "codemirror_mode": {
    "name": "ipython",
    "version": 3
   },
   "file_extension": ".py",
   "mimetype": "text/x-python",
   "name": "python",
   "nbconvert_exporter": "python",
   "pygments_lexer": "ipython3",
   "version": "3.10.9"
  }
 },
 "nbformat": 4,
 "nbformat_minor": 5
}
